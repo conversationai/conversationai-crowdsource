{
 "cells": [
  {
   "cell_type": "code",
   "execution_count": 7,
   "metadata": {
    "collapsed": true
   },
   "outputs": [],
   "source": [
    "import sys\n",
    "sys.path.append('../../common/')\n",
    "import pandas as pd\n",
    "from functools import reduce\n",
    "import glob\n",
    "import ntpath\n",
    "import matplotlib.pyplot as plt\n",
    "import math\n",
    "import ntpath, glob\n",
    "from ipy_table import *"
   ]
  },
  {
   "cell_type": "code",
   "execution_count": 8,
   "metadata": {
    "collapsed": true
   },
   "outputs": [],
   "source": [
    "from crowd_data_aggregator import CrowdsourceAggregator\n",
    "from data_input_output_functions import *"
   ]
  },
  {
   "cell_type": "code",
   "execution_count": 9,
   "metadata": {
    "collapsed": true
   },
   "outputs": [],
   "source": [
    "batches = [1,2,3,4,5,6,7,8,9,10,11,12]"
   ]
  },
  {
   "cell_type": "code",
   "execution_count": 10,
   "metadata": {
    "collapsed": true
   },
   "outputs": [],
   "source": [
    "#batch = 11\n",
    "#constructiveness_path = '../../CF_output/toxicity/batch' + str(batch) + '/'\n",
    "#input_csv = get_full_annotation_csv(constructiveness_path, batch)\n",
    "#df = pd.read_csv(input_csv)\n",
    "#df = df.query('_golden == False')"
   ]
  },
  {
   "cell_type": "code",
   "execution_count": 16,
   "metadata": {},
   "outputs": [
    {
     "name": "stdout",
     "output_type": "stream",
     "text": [
      "\n",
      "\n",
      "____________________________\n",
      "Batch:  10\n",
      "Pearson correlation coefficient:                               crowd_toxicity_level  \\\n",
      "crowd_toxicity_level                     1.000000   \n",
      "crowd_toxicity_level_binary              0.938615   \n",
      "agree_binary                            -0.186109   \n",
      "\n",
      "                             crowd_toxicity_level_binary  agree_binary  \n",
      "crowd_toxicity_level                            0.938615     -0.186109  \n",
      "crowd_toxicity_level_binary                     1.000000     -0.187160  \n",
      "agree_binary                                   -0.187160      1.000000  \n"
     ]
    },
    {
     "name": "stderr",
     "output_type": "stream",
     "text": [
      "/Users/vkolhatk/anaconda/lib/python3.6/site-packages/ipykernel_launcher.py:11: SettingWithCopyWarning: \n",
      "A value is trying to be set on a copy of a slice from a DataFrame.\n",
      "Try using .loc[row_indexer,col_indexer] = value instead\n",
      "\n",
      "See the caveats in the documentation: http://pandas.pydata.org/pandas-docs/stable/indexing.html#indexing-view-versus-copy\n",
      "  # This is added back by InteractiveShellApp.init_path()\n",
      "/Users/vkolhatk/anaconda/lib/python3.6/site-packages/ipykernel_launcher.py:12: SettingWithCopyWarning: \n",
      "A value is trying to be set on a copy of a slice from a DataFrame.\n",
      "Try using .loc[row_indexer,col_indexer] = value instead\n",
      "\n",
      "See the caveats in the documentation: http://pandas.pydata.org/pandas-docs/stable/indexing.html#indexing-view-versus-copy\n",
      "  if sys.path[0] == '':\n"
     ]
    }
   ],
   "source": [
    "for batch in batches: \n",
    "    # set paths for crowd annotated files\n",
    "    print('\\n\\n____________________________')\n",
    "    print('Batch: ', str(batch))\n",
    "    toxicity_path = '../../CF_output/toxicity/batch' + str(batch) + '/'\n",
    "    input_csv = get_full_annotation_csv(toxicity_path, batch)\n",
    "    df = pd.read_csv(input_csv)\n",
    "    df = df.query('_golden == False')\n",
    "    df_subset = df[['crowd_toxicity_level', 'agree']]\n",
    "    df_subsubset = df_subset[(df_subset['agree'].isin(['yes','no'])) & (df_subset['crowd_toxicity_level'].isin([1,2,3,4])) ]\n",
    "    df_subsubset['crowd_toxicity_level_binary'] = df_subsubset['crowd_toxicity_level'].apply(lambda x: 1.0 if x >= 2.0 else 0.0)\n",
    "    df_subsubset['agree_binary'] = df_subsubset['agree'].apply(lambda x: 1.0 if x == 'yes' else 0.0)\n",
    "    print('Pearson correlation coefficient: ', df_subsubset.corr(method = 'pearson'))\n",
    "    #agreed = df_subsubset[df_subsubset['agree'] == df_subsubset['crowd_toxicity_level']].shape[0]\n",
    "    #total = df_subsubset.shape[0]\n",
    "    #print('Percentage agreement: ', agreed/float(total))\n",
    "    #df_subsubset.plot.scatter(x='crowd_toxicity_level',\n",
    "                    #y='agree_binary',\n",
    "                    #c='DarkBlue')"
   ]
  },
  {
   "cell_type": "code",
   "execution_count": 7,
   "metadata": {},
   "outputs": [
    {
     "data": {
      "image/png": "[encoded data removed]",
      "text/plain": [
       "<matplotlib.figure.Figure at 0x107fd75f8>"
      ]
     },
     "metadata": {},
     "output_type": "display_data"
    },
    {
     "data": {
      "image/png": "[encoded data removed]",
      "text/plain": [
       "<matplotlib.figure.Figure at 0x112f6e048>"
      ]
     },
     "metadata": {},
     "output_type": "display_data"
    },
    {
     "data": {
      "image/png": "[encoded data removed]",
      "text/plain": [
       "<matplotlib.figure.Figure at 0x1128d45f8>"
      ]
     },
     "metadata": {},
     "output_type": "display_data"
    }
   ],
   "source": [
    "plt.show()"
   ]
  },
  {
   "cell_type": "code",
   "execution_count": null,
   "metadata": {
    "collapsed": true
   },
   "outputs": [],
   "source": []
  }
 ],
 "metadata": {
  "kernelspec": {
   "display_name": "Python 3",
   "language": "python",
   "name": "python3"
  },
  "language_info": {
   "codemirror_mode": {
    "name": "ipython",
    "version": 3
   },
   "file_extension": ".py",
   "mimetype": "text/x-python",
   "name": "python",
   "nbconvert_exporter": "python",
   "pygments_lexer": "ipython3",
   "version": "3.6.1"
  }
 },
 "nbformat": 4,
 "nbformat_minor": 2
}
