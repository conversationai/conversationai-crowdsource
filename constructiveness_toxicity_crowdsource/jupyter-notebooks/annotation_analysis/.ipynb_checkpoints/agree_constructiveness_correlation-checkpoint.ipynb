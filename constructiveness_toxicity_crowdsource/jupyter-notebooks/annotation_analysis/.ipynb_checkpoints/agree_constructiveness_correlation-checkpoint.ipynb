{
 "cells": [
  {
   "cell_type": "code",
   "execution_count": 1,
   "metadata": {
    "collapsed": true
   },
   "outputs": [],
   "source": [
    "import sys\n",
    "sys.path.append('../../common/')\n",
    "import pandas as pd\n",
    "from functools import reduce\n",
    "import glob\n",
    "import ntpath\n",
    "import matplotlib.pyplot as plt\n",
    "import math\n",
    "import ntpath, glob\n",
    "from ipy_table import *"
   ]
  },
  {
   "cell_type": "code",
   "execution_count": 2,
   "metadata": {
    "collapsed": true
   },
   "outputs": [],
   "source": [
    "from crowd_data_aggregator import CrowdsourceAggregator\n",
    "from data_input_output_functions import *"
   ]
  },
  {
   "cell_type": "code",
   "execution_count": 3,
   "metadata": {
    "collapsed": true
   },
   "outputs": [],
   "source": [
    "batches = [10]#[1,2,3,4,5,6,7,8,9,10,11,12]"
   ]
  },
  {
   "cell_type": "code",
   "execution_count": 9,
   "metadata": {
    "collapsed": true
   },
   "outputs": [],
   "source": [
    "batch = 11\n",
    "constructiveness_path = '../../CF_output/constructiveness/batch' + str(batch) + '/'\n",
    "input_csv = get_full_annotation_csv(constructiveness_path, batch)\n",
    "df = pd.read_csv(input_csv)\n",
    "df = df.query('_golden == False')"
   ]
  },
  {
   "cell_type": "code",
   "execution_count": 8,
   "metadata": {},
   "outputs": [
    {
     "data": {
      "text/plain": [
       "array([\"Birtherism comes to Canada with the Maryam Monsef 'scandal'\",\n",
       "       \"How the Tories' 'war on the media' fills party coffers\",\n",
       "       \"Attacks on Joseph Boyden's identity should set off alarm bells\",\n",
       "       'New Liberal government, same old litany',\n",
       "       'Network debates without Harper? No problem',\n",
       "       \"Ms. Wynne: Painting wasteful policies with a green brush won't fool Ontarians\",\n",
       "       \"Why the Premier of Alberta shouldn't get to decide who is 'media'\",\n",
       "       'Round 1: Kid Trudeau stings like a pillow',\n",
       "       'How not to act old, even when you are',\n",
       "       'Conservatives in trouble, with Harper as dead weight',\n",
       "       'Welcome to college - and the thought police',\n",
       "       'The rest of Canada will have choices to make',\n",
       "       \"Trudeau and Obama: 'The smiling faces of vindictiveness'\",\n",
       "       'I bought the lie, now VW will pay',\n",
       "       'The great global greening is happening now',\n",
       "       \"If Trump wins, I'll eat this column\",\n",
       "       'Censorship is alive and well in Canada - just ask government scientists',\n",
       "       'The disappearance of the moderate conservative',\n",
       "       \"Medical pot is a sham. Here's how\",\n",
       "       'Globe Editorial: Banking unused sick days is a nonsensical benefit that has to go',\n",
       "       \"America's hidden crisis: Men not at work\",\n",
       "       'Why the world wants Clinton to win',\n",
       "       'Do Trudeau and the NDP scare Harper? Hardly',\n",
       "       \"Dear America: Please don't vote for Donald Trump\",\n",
       "       \"Canada's plan to recall jets from anti-IS campaign is bad move on global stage\",\n",
       "       'When it comes to the money that politicians spend, we worry about the wrong stuff',\n",
       "       \"FBI director's poor decision about Clinton e-mails could taint the U.S. election\",\n",
       "       'President Trump? Pass the smelling salts',\n",
       "       'Recharging the Canadian right',\n",
       "       \"Reality bites Trudeau: Rhetoric is easy, governing isn't\",\n",
       "       'York professor at centre of religious rights furor: Rights Code is the issue',\n",
       "       \"Conservatives' dirty tricks have no place in Canadian politics\",\n",
       "       \"Who gets to decide what 'Canadian values' are?\",\n",
       "       'We should have shown more compassion for Rob Ford - while he was alive',\n",
       "       'Are we witnessing the strange death of Liberal Canada?',\n",
       "       'Our money for attack ads - how low can the Harper Conservatives go?',\n",
       "       \"We're getting hysterical about child safety\",\n",
       "       \"Why Australia's carbon tax bombed\",\n",
       "       \"Let's worry about skills, not outsourcing\",\n",
       "       'David Miller: Climate change is hitting big cities. They need to take action',\n",
       "       'The sagging Liberals need a shakeup',\n",
       "       'On Syrian refugees, are the Liberals deliberately courting controversy?',\n",
       "       'Why the hurry to pass the Fair Elections Act?',\n",
       "       'France will hit back at IS. Will its allies join a bigger fight?',\n",
       "       'Are we watching the death throes of American liberal democracy?',\n",
       "       'Canada has a gun problem',\n",
       "       'Thank you, Hillary. Now women know retreat is not an option',\n",
       "       'Enough is enough: Time to address epidemic of violence against native women'], dtype=object)"
      ]
     },
     "execution_count": 8,
     "metadata": {},
     "output_type": "execute_result"
    }
   ],
   "source": [
    "df['article_title'].unique()"
   ]
  },
  {
   "cell_type": "code",
   "execution_count": 10,
   "metadata": {},
   "outputs": [
    {
     "data": {
      "text/plain": [
       "array(['Spare me the abortion absolutism',\n",
       "       'Senate ethics - what about Press Gallery ethics?',\n",
       "       \"Canadians are poised to take in more Syrians. Let's do it\",\n",
       "       \"Harper cave on climate? Don't hold your breath\",\n",
       "       'The vindication of Mike Duffy', 'Team NDP has a big hole to fill',\n",
       "       'Pass the butter: The experts were all wrong',\n",
       "       \"How U.S. gun ownership became a 'right,' and why it isn't\",\n",
       "       \"The truth behind Donald Trump's lies\",\n",
       "       \"Religious freedom: As Canadian as hockey, beer and saying 'I'm sorry'\",\n",
       "       'Sex on the Hill, theatre of the absurd',\n",
       "       \"Do anti-vaxxers need a 'nudge'? More like a kick in the pants\",\n",
       "       'The threat of political correctness, real and imagined',\n",
       "       \"Harper's base couldn't care less about climate\",\n",
       "       'Dear Scotland: An open letter from your Canadian cousins',\n",
       "       \"Tom Flanagan's banishment was a betrayal of basic values\",\n",
       "       'Nixon, Harper and the hallmarks of power',\n",
       "       'The Harperites and the joy of negative advertising',\n",
       "       'Peladeau will be a game changer - but not the way the PQ hopes',\n",
       "       \"Peter MacKay: He's the Minister of Wrong Again\",\n",
       "       \"Teachers' unions are obsolete\",\n",
       "       'Tories, Liberals: Who are the better economic managers?',\n",
       "       'Tax-and-spend vs. slash-and-burn', \"Climate's big PR problem\",\n",
       "       \"Trump's wall guards nothing but the sanctity of bigotry\",\n",
       "       'To the music-banning Muslim father: Rejecting compromise is extremism',\n",
       "       'Is this as good as it gets?',\n",
       "       'Alberta, the rest of Canada feels your pain',\n",
       "       'Energy East: The pipeline that could tear Canada apart',\n",
       "       'Two very different Americas',\n",
       "       \"Why B.C.'s real estate tax on foreign nationals is unlawful\",\n",
       "       \"Germany and Canada are the West's last safe harbours\",\n",
       "       'Pot still fails the sniff test',\n",
       "       \"Secularism is worth seeking, but Quebec's approach won't work\",\n",
       "       'Boys will be boys - schools need to understand that',\n",
       "       'Conservatism is in crisis, and it goes beyond Trump',\n",
       "       'The toll we pay for a bunker mentality',\n",
       "       'Why did Calgary cave to chemophobes over fluoridation?',\n",
       "       'Why Trudeau may regret saying no to the Iraq mission',\n",
       "       'Where is the PM when Quebec needs him?',\n",
       "       \"Provinces have no right to pipeline 'conditions'\",\n",
       "       \"Foreign workers won't be temporary if we make them permanent\",\n",
       "       \"Who gets to decide what 'Canadian values' are?\",\n",
       "       'Blame Berlin: Why the Greek debt deal is doomed to fail',\n",
       "       'Enough already: Rob Ford must resign',\n",
       "       \"Canada's true role in the Mideast conflict\",\n",
       "       'The great global greening is happening now',\n",
       "       'Globe Editorial: Prime Minister needed to say more in speech to caucus',\n",
       "       \"Allies will remember Canada's withdrawal from the IS fight\",\n",
       "       'What if race is more than a social construct?',\n",
       "       \"Don't forget the Base - you can bet Harper won't\",\n",
       "       'The Brexit vote is complete folly, but there is still time to reverse it',\n",
       "       'Plenty of blame to go round in real estate crisis',\n",
       "       'For two years, Conservatives will be all about the 10 per cent',\n",
       "       'Let Mother Canada take a stand',\n",
       "       'The re-engineering of Canada is finally over',\n",
       "       'For Harper, a textbook moment for a snap election',\n",
       "       \"Harper's disrespect for the Supreme Court harms the workings of government\",\n",
       "       'Too many first nations people live in a dream palace',\n",
       "       'Conservatives in power, but out of step',\n",
       "       \"Message for Ontario's sex ed naysayers: Ignorance is far from bliss\",\n",
       "       'The rest of Canada will have choices to make',\n",
       "       'Toronto really is superior to Vancouver',\n",
       "       \"Justin Trudeau's lousy week\",\n",
       "       \"Despite the rap sheet, Harper isn't the worst PM\",\n",
       "       \"Why conservatives have it wrong about Trudeau's carbon tax\",\n",
       "       \"Donald Trump's shakedown of the American dream\",\n",
       "       \"Canada's tolerant, liberal society is Islamic State's worst nightmare\",\n",
       "       'A principled Ontario premier would end funding for Catholic schools',\n",
       "       \"Wynne's way: Rob the poor, help the rich\",\n",
       "       \"Medical pot is a sham. Here's how\",\n",
       "       \"Conservatives' dirty tricks have no place in Canadian politics\",\n",
       "       'Enough is enough: Time to address epidemic of violence against native women',\n",
       "       'NDP thinks big with national daycare plan',\n",
       "       'Thank you, Hillary. Now women know retreat is not an option',\n",
       "       \"Ms. Wynne: Painting wasteful policies with a green brush won't fool Ontarians\",\n",
       "       'Globe Editorial: Banking unused sick days is a nonsensical benefit that has to go',\n",
       "       'Thank you, Hillary. Now women know retreat is not an option - The Globe and Mail',\n",
       "       \"We're getting hysterical about child safety\",\n",
       "       'When it comes to the money that politicians spend, we worry about the wrong stuff',\n",
       "       \"Why the Premier of Alberta shouldn't get to decide who is 'media'\",\n",
       "       \"Birtherism comes to Canada with the Maryam Monsef 'scandal'\"], dtype=object)"
      ]
     },
     "execution_count": 10,
     "metadata": {},
     "output_type": "execute_result"
    }
   ],
   "source": [
    "df['article_title'].unique()"
   ]
  },
  {
   "cell_type": "code",
   "execution_count": null,
   "metadata": {
    "collapsed": true
   },
   "outputs": [],
   "source": []
  },
  {
   "cell_type": "code",
   "execution_count": null,
   "metadata": {
    "collapsed": true
   },
   "outputs": [],
   "source": []
  },
  {
   "cell_type": "code",
   "execution_count": 6,
   "metadata": {},
   "outputs": [
    {
     "name": "stdout",
     "output_type": "stream",
     "text": [
      "\n",
      "\n",
      "____________________________\n",
      "Batch:  10\n"
     ]
    },
    {
     "name": "stderr",
     "output_type": "stream",
     "text": [
      "/Users/vkolhatk/anaconda/lib/python3.6/site-packages/ipykernel_launcher.py:11: SettingWithCopyWarning: \n",
      "A value is trying to be set on a copy of a slice from a DataFrame.\n",
      "Try using .loc[row_indexer,col_indexer] = value instead\n",
      "\n",
      "See the caveats in the documentation: http://pandas.pydata.org/pandas-docs/stable/indexing.html#indexing-view-versus-copy\n",
      "  # This is added back by InteractiveShellApp.init_path()\n",
      "/Users/vkolhatk/anaconda/lib/python3.6/site-packages/ipykernel_launcher.py:12: SettingWithCopyWarning: \n",
      "A value is trying to be set on a copy of a slice from a DataFrame.\n",
      "Try using .loc[row_indexer,col_indexer] = value instead\n",
      "\n",
      "See the caveats in the documentation: http://pandas.pydata.org/pandas-docs/stable/indexing.html#indexing-view-versus-copy\n",
      "  if sys.path[0] == '':\n"
     ]
    },
    {
     "name": "stdout",
     "output_type": "stream",
     "text": [
      "Pearson correlation coefficient:                       constructive_binary  agree_binary\n",
      "constructive_binary             1.000000      0.474084\n",
      "agree_binary                    0.474084      1.000000\n",
      "Percentage agreement:  0.7412947523295733\n",
      "\n",
      "\n",
      "____________________________\n",
      "Batch:  11\n",
      "Pearson correlation coefficient:                       constructive_binary  agree_binary\n",
      "constructive_binary             1.000000      0.425306\n",
      "agree_binary                    0.425306      1.000000\n",
      "Percentage agreement:  0.7202731339769249\n",
      "\n",
      "\n",
      "____________________________\n",
      "Batch:  12\n",
      "Pearson correlation coefficient:                       constructive_binary  agree_binary\n",
      "constructive_binary             1.000000      0.543687\n",
      "agree_binary                    0.543687      1.000000\n",
      "Percentage agreement:  0.7792546260099036\n"
     ]
    }
   ],
   "source": [
    "for batch in batches: \n",
    "    # set paths for crowd annotated files\n",
    "    print('\\n\\n____________________________')\n",
    "    print('Batch: ', str(batch))\n",
    "    constructiveness_path = '../CF_output/constructiveness/batch' + str(batch) + '/'\n",
    "    input_csv = get_full_annotation_csv(constructiveness_path, batch)\n",
    "    df = pd.read_csv(input_csv)\n",
    "    df = df.query('_golden == False')\n",
    "    df_subset = df[['constructive', 'agree']]\n",
    "    df_subsubset = df_subset[(df_subset['agree'].isin(['yes','no'])) & (df_subset['constructive'].isin(['yes','no'])) ]\n",
    "    df_subsubset['constructive_binary'] = df_subsubset['constructive'].apply(lambda x: 1.0 if x == 'yes' else 0.0)\n",
    "    df_subsubset['agree_binary'] = df_subsubset['agree'].apply(lambda x: 1.0 if x == 'yes' else 0.0)\n",
    "    print('Pearson correlation coefficient: ', df_subsubset.corr(method = 'pearson'))\n",
    "    agreed = df_subsubset[df_subsubset['agree'] == df_subsubset['constructive']].shape[0]\n",
    "    total = df_subsubset.shape[0]\n",
    "    print('Percentage agreement: ', agreed/float(total))\n",
    "    df_subsubset.plot.scatter(x='constructive_binary',\n",
    "                    y='agree_binary',\n",
    "                    c='DarkBlue')"
   ]
  },
  {
   "cell_type": "code",
   "execution_count": 7,
   "metadata": {},
   "outputs": [
    {
     "data": {
      "image/png": "[encoded data removed]",
      "text/plain": [
       "<matplotlib.figure.Figure at 0x107fd75f8>"
      ]
     },
     "metadata": {},
     "output_type": "display_data"
    },
    {
     "data": {
      "image/png": "[encoded data removed]",
      "text/plain": [
       "<matplotlib.figure.Figure at 0x112f6e048>"
      ]
     },
     "metadata": {},
     "output_type": "display_data"
    },
    {
     "data": {
      "image/png": "[encoded data removed]",
      "text/plain": [
       "<matplotlib.figure.Figure at 0x1128d45f8>"
      ]
     },
     "metadata": {},
     "output_type": "display_data"
    }
   ],
   "source": [
    "plt.show()"
   ]
  },
  {
   "cell_type": "code",
   "execution_count": null,
   "metadata": {
    "collapsed": true
   },
   "outputs": [],
   "source": []
  }
 ],
 "metadata": {
  "kernelspec": {
   "display_name": "Python 3",
   "language": "python",
   "name": "python3"
  },
  "language_info": {
   "codemirror_mode": {
    "name": "ipython",
    "version": 3
   },
   "file_extension": ".py",
   "mimetype": "text/x-python",
   "name": "python",
   "nbconvert_exporter": "python",
   "pygments_lexer": "ipython3",
   "version": "3.6.1"
  }
 },
 "nbformat": 4,
 "nbformat_minor": 2
}
