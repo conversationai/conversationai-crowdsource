{
 "cells": [
  {
   "cell_type": "code",
   "execution_count": 5,
   "metadata": {
    "collapsed": true
   },
   "outputs": [],
   "source": [
    "import sys\n",
    "sys.path.append('../../common/')\n",
    "import pandas as pd\n",
    "from functools import reduce\n",
    "import glob\n",
    "import ntpath\n",
    "import matplotlib.pyplot as plt\n",
    "import math\n",
    "import ntpath, glob\n",
    "from ipy_table import *"
   ]
  },
  {
   "cell_type": "code",
   "execution_count": 6,
   "metadata": {
    "collapsed": true
   },
   "outputs": [],
   "source": [
    "from crowd_data_aggregator import CrowdsourceAggregator\n",
    "from data_input_output_functions import *"
   ]
  },
  {
   "cell_type": "code",
   "execution_count": 21,
   "metadata": {
    "collapsed": true
   },
   "outputs": [],
   "source": [
    "batches = [3,4,5,6,7,8,9,10,11,12]\n",
    "discarded = []\n",
    "kept = []\n",
    "contentful = []"
   ]
  },
  {
   "cell_type": "code",
   "execution_count": 22,
   "metadata": {},
   "outputs": [
    {
     "name": "stdout",
     "output_type": "stream",
     "text": [
      "\n",
      "\n",
      "____________________________\n",
      "Batch:  3\n",
      "Number of mildly toxic+ instances:  1016\n",
      "% toxic instances which have some content in them:  52.16535433070866\n",
      "Number of toxic+ instances:  254\n",
      "% toxic instances the contributors would have discarded:  68.50393700787401\n",
      "% toxic instances the contributor would have kept:  24.015748031496063\n",
      "\n",
      "\n",
      "____________________________\n",
      "Batch:  4\n",
      "Number of mildly toxic+ instances:  904\n",
      "% toxic instances which have some content in them:  39.04867256637168\n",
      "Number of toxic+ instances:  300\n",
      "% toxic instances the contributors would have discarded:  78.0\n",
      "% toxic instances the contributor would have kept:  15.666666666666666\n",
      "\n",
      "\n",
      "____________________________\n",
      "Batch:  5\n",
      "Number of mildly toxic+ instances:  677\n",
      "% toxic instances which have some content in them:  33.82570162481536\n",
      "Number of toxic+ instances:  208\n",
      "% toxic instances the contributors would have discarded:  78.36538461538461\n",
      "% toxic instances the contributor would have kept:  19.23076923076923\n",
      "\n",
      "\n",
      "____________________________\n",
      "Batch:  6\n",
      "Number of mildly toxic+ instances:  495\n",
      "% toxic instances which have some content in them:  31.515151515151516\n",
      "Number of toxic+ instances:  141\n",
      "% toxic instances the contributors would have discarded:  84.39716312056737\n",
      "% toxic instances the contributor would have kept:  10.638297872340425\n",
      "\n",
      "\n",
      "____________________________\n",
      "Batch:  7\n",
      "Number of mildly toxic+ instances:  750\n",
      "% toxic instances which have some content in them:  35.333333333333336\n",
      "Number of toxic+ instances:  217\n",
      "% toxic instances the contributors would have discarded:  83.41013824884793\n",
      "% toxic instances the contributor would have kept:  11.059907834101383\n",
      "\n",
      "\n",
      "____________________________\n",
      "Batch:  8\n",
      "Number of mildly toxic+ instances:  626\n",
      "% toxic instances which have some content in them:  32.108626198083066\n",
      "Number of toxic+ instances:  163\n",
      "% toxic instances the contributors would have discarded:  86.50306748466258\n",
      "% toxic instances the contributor would have kept:  7.975460122699387\n",
      "\n",
      "\n",
      "____________________________\n",
      "Batch:  9\n",
      "Number of mildly toxic+ instances:  538\n",
      "% toxic instances which have some content in them:  28.066914498141266\n",
      "Number of toxic+ instances:  139\n",
      "% toxic instances the contributors would have discarded:  69.06474820143885\n",
      "% toxic instances the contributor would have kept:  23.741007194244606\n",
      "\n",
      "\n",
      "____________________________\n",
      "Batch:  10\n",
      "Number of mildly toxic+ instances:  529\n",
      "% toxic instances which have some content in them:  27.7882797731569\n",
      "Number of toxic+ instances:  154\n",
      "% toxic instances the contributors would have discarded:  79.87012987012987\n",
      "% toxic instances the contributor would have kept:  6.4935064935064934\n",
      "\n",
      "\n",
      "____________________________\n",
      "Batch:  11\n",
      "Number of mildly toxic+ instances:  383\n",
      "% toxic instances which have some content in them:  34.46475195822455\n",
      "Number of toxic+ instances:  55\n",
      "% toxic instances the contributors would have discarded:  67.27272727272727\n",
      "% toxic instances the contributor would have kept:  16.363636363636363\n",
      "\n",
      "\n",
      "____________________________\n",
      "Batch:  12\n",
      "Number of mildly toxic+ instances:  355\n",
      "% toxic instances which have some content in them:  23.380281690140844\n",
      "Number of toxic+ instances:  88\n",
      "% toxic instances the contributors would have discarded:  85.22727272727273\n",
      "% toxic instances the contributor would have kept:  12.5\n"
     ]
    }
   ],
   "source": [
    "for batch in batches: \n",
    "    # set paths for crowd annotated files\n",
    "    print('\\n\\n____________________________')\n",
    "    print('Batch: ', str(batch))\n",
    "    toxicity_path = '../../CF_output/toxicity/batch' + str(batch) + '/'\n",
    "    input_csv = get_full_annotation_csv(toxicity_path, batch)\n",
    "    df = pd.read_csv(input_csv)\n",
    "    df = df.query('_golden == False')\n",
    "    df_subset = df[['crowd_toxicity_level', 'crowd_discard', 'expert_has_content']]\n",
    "    df_toxic_content_df = df_subset[(df_subset['crowd_toxicity_level'] >= 2.0) & (df_subset['expert_has_content'] == 'yes')]\n",
    "    df_toxic_discard_df = df_subset[(df_subset['crowd_toxicity_level'] >= 2.0) & (df_subset['crowd_discard'] == 'discard')]    \n",
    "    df_toxic_keep_df = df_subset[(df_subset['crowd_toxicity_level'] >= 2.0) & (df_subset['crowd_discard'] == 'keep')]\n",
    "    \n",
    "    total_mildly_toxic_and_higher = df_subset[(df_subset['crowd_toxicity_level'] >= 2.0)].shape[0]\n",
    "    total_toxic_and_higher = df_subset[(df_subset['crowd_toxicity_level'] >= 3.0)].shape[0]\n",
    "    contentful_p = (df_toxic_content_df.shape[0]*100)/total_mildly_toxic_and_higher\n",
    "    print('Number of mildly toxic+ instances: ', total_mildly_toxic_and_higher) \n",
    "    print('% toxic instances which have some content in them: ', contentful_p)\n",
    "    contentful.append(contentful_p)\n",
    "    \n",
    "    discard_p = (df_toxic_discard_df.shape[0] * 100)/total_toxic_and_higher\n",
    "    keep_p = (df_toxic_keep_df.shape[0] *100)/total_toxic_and_higher\n",
    "    print('Number of toxic+ instances: ', total_toxic_and_higher) \n",
    "    print('% toxic instances the contributors would have discarded: ', discard_p)\n",
    "    print('% toxic instances the contributor would have kept: ', keep_p)\n",
    "    \n",
    "    discarded.append(discard_p)\n",
    "    kept.append(keep_p)\n",
    "    \n",
    "    #df_subsubset['crowd_toxicity_level_binary'] = df_subsubset['crowd_toxicity_level'].apply(lambda x: 1.0 if x >= 2.0 else 0.0)\n",
    "    #df_subsubset['agree_binary'] = df_subsubset['agree'].apply(lambda x: 1.0 if x == 'yes' else 0.0)\n",
    "    #print('Pearson correlation coefficient: ', df_subsubset.corr(method = 'pearson'))\n",
    "    #agreed = df_subsubset[df_subsubset['agree'] == df_subsubset['crowd_toxicity_level']].shape[0]\n",
    "    #total = df_subsubset.shape[0]\n",
    "    #print('Percentage agreement: ', agreed/float(total))\n",
    "    #df_subsubset.plot.scatter(x='crowd_toxicity_level',\n",
    "                    #y='agree_binary',\n",
    "                    #c='DarkBlue')"
   ]
  },
  {
   "cell_type": "code",
   "execution_count": 25,
   "metadata": {},
   "outputs": [
    {
     "name": "stdout",
     "output_type": "stream",
     "text": [
      "33.76970674881272\n"
     ]
    }
   ],
   "source": [
    "print(sum(contentful)/10.0)"
   ]
  },
  {
   "cell_type": "code",
   "execution_count": 27,
   "metadata": {},
   "outputs": [
    {
     "name": "stdout",
     "output_type": "stream",
     "text": [
      "78.06145685489052\n"
     ]
    }
   ],
   "source": [
    "print(sum(discarded)/10.0)"
   ]
  },
  {
   "cell_type": "code",
   "execution_count": 28,
   "metadata": {},
   "outputs": [
    {
     "name": "stdout",
     "output_type": "stream",
     "text": [
      "14.76849998094606\n"
     ]
    }
   ],
   "source": [
    "print(sum(kept)/10.0)"
   ]
  },
  {
   "cell_type": "code",
   "execution_count": 2,
   "metadata": {
    "collapsed": true
   },
   "outputs": [],
   "source": [
    "annotations_file = '../../CF_output/annotated_data/constructiveness_and_toxicity_annotations_batches_1_to_12.csv'"
   ]
  },
  {
   "cell_type": "code",
   "execution_count": 3,
   "metadata": {
    "collapsed": true
   },
   "outputs": [],
   "source": [
    "df = pd.read_csv(annotations_file)"
   ]
  },
  {
   "cell_type": "code",
   "execution_count": 4,
   "metadata": {},
   "outputs": [
    {
     "data": {
      "text/plain": [
       "(12000, 21)"
      ]
     },
     "execution_count": 4,
     "metadata": {},
     "output_type": "execute_result"
    }
   ],
   "source": [
    "df.shape"
   ]
  },
  {
   "cell_type": "code",
   "execution_count": 5,
   "metadata": {},
   "outputs": [
    {
     "data": {
      "text/plain": [
       "Index(['article_id', 'comment_author', 'comment_counter', 'comment_text',\n",
       "       'njudgements_constructiveness_expt', 'njudgements_toxicity_expt',\n",
       "       'agree_constructiveness_expt', 'agree_toxicity_expt', 'constructive',\n",
       "       'constructive_binary', 'crowd_toxicity_level', 'has_content',\n",
       "       'crowd_discard', 'constructive_characteristics',\n",
       "       'non_constructive_characteristics', 'toxicity_characteristics',\n",
       "       'crowd_comments_constructiveness_expt', 'crowd_comments_toxicity_expt',\n",
       "       'other_con_chars', 'other_noncon_chars', 'other_toxic_chars'],\n",
       "      dtype='object')"
      ]
     },
     "execution_count": 5,
     "metadata": {},
     "output_type": "execute_result"
    }
   ],
   "source": [
    "df.columns"
   ]
  },
  {
   "cell_type": "code",
   "execution_count": 10,
   "metadata": {},
   "outputs": [
    {
     "data": {
      "text/plain": [
       "(2974, 21)"
      ]
     },
     "execution_count": 10,
     "metadata": {},
     "output_type": "execute_result"
    }
   ],
   "source": [
    "df[df['crowd_discard'].str.find('discard') != -1].shape"
   ]
  },
  {
   "cell_type": "code",
   "execution_count": 11,
   "metadata": {},
   "outputs": [
    {
     "data": {
      "text/plain": [
       "0.2974"
      ]
     },
     "execution_count": 11,
     "metadata": {},
     "output_type": "execute_result"
    }
   ],
   "source": [
    "2974/10000"
   ]
  },
  {
   "cell_type": "code",
   "execution_count": null,
   "metadata": {
    "collapsed": true
   },
   "outputs": [],
   "source": []
  }
 ],
 "metadata": {
  "kernelspec": {
   "display_name": "Python 3",
   "language": "python",
   "name": "python3"
  },
  "language_info": {
   "codemirror_mode": {
    "name": "ipython",
    "version": 3
   },
   "file_extension": ".py",
   "mimetype": "text/x-python",
   "name": "python",
   "nbconvert_exporter": "python",
   "pygments_lexer": "ipython3",
   "version": "3.6.1"
  }
 },
 "nbformat": 4,
 "nbformat_minor": 2
}
